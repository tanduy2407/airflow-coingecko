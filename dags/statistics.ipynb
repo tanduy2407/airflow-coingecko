{
 "cells": [
  {
   "cell_type": "code",
   "execution_count": 19,
   "metadata": {},
   "outputs": [],
   "source": [
    "from pyspark.sql import SparkSession\n",
    "from pyspark.sql import functions as F\n",
    "from datetime import date, timedelta"
   ]
  },
  {
   "cell_type": "code",
   "execution_count": 7,
   "metadata": {},
   "outputs": [],
   "source": [
    "spark = (\n",
    "    SparkSession.builder.appName(\"airflow-coingecko\").getOrCreate()\n",
    ")"
   ]
  },
  {
   "cell_type": "code",
   "execution_count": 14,
   "metadata": {},
   "outputs": [],
   "source": [
    "df = spark.read \\\n",
    "    .format(\"jdbc\") \\\n",
    "    .option(\"url\", \"jdbc:mysql://localhost:3306/coingecko\") \\\n",
    "    .option(\"driver\", \"com.mysql.cj.jdbc.Driver\") \\\n",
    "    .option(\"dbtable\", \"historical_data\") \\\n",
    "    .option(\"user\", \"root\") \\\n",
    "    .option(\"password\", \"tanduy2407\") \\\n",
    "    .load()"
   ]
  },
  {
   "cell_type": "code",
   "execution_count": 36,
   "metadata": {},
   "outputs": [
    {
     "name": "stdout",
     "output_type": "stream",
     "text": [
      "+--------+------------------+\n",
      "|    name|        sum(price)|\n",
      "+--------+------------------+\n",
      "|Ethereum|          54110.07|\n",
      "| Polygon|           32.4574|\n",
      "|  Solana| 630.9610999999999|\n",
      "| Cardano|11.295247999999999|\n",
      "|Dogecoin|         2.3798508|\n",
      "|     XRP|         14.368703|\n",
      "|     BNB|          9325.324|\n",
      "| Bitcoin|          828844.0|\n",
      "+--------+------------------+\n",
      "\n"
     ]
    }
   ],
   "source": [
    "date_last_month = (date.today()-timedelta(days=30)).strftime('%Y-%m-%d')\n",
    "# mtd: month to date\n",
    "mtd = df.filter(F.col('date') > date_last_month)\n",
    "# month_to_date_mean = month_to_date.groupBy('name').agg({'price': 'max'}).alias('Max Price in previuos month')\n",
    "mtd = mtd.groupBy('name').agg(F.sum('price').alias('Max Price in previuos month'))\n",
    "mtd.show()"
   ]
  }
 ],
 "metadata": {
  "kernelspec": {
   "display_name": "Python 3",
   "language": "python",
   "name": "python3"
  },
  "language_info": {
   "codemirror_mode": {
    "name": "ipython",
    "version": 3
   },
   "file_extension": ".py",
   "mimetype": "text/x-python",
   "name": "python",
   "nbconvert_exporter": "python",
   "pygments_lexer": "ipython3",
   "version": "3.11.3"
  },
  "orig_nbformat": 4
 },
 "nbformat": 4,
 "nbformat_minor": 2
}
